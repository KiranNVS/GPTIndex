{
 "cells": [
  {
   "cell_type": "code",
   "execution_count": 18,
   "metadata": {},
   "outputs": [],
   "source": [
    "import os\n",
    "DATA_PATH = '../data'\n",
    "import matplotlib.pyplot as plt\n",
    "import numpy as np\n",
    "\n",
    "datasets = ['ICEWS14', 'ICEWS05-15', 'ICEWS18']\n",
    "sets = ['train', 'valid', 'test', 'relation2id', 'entity2id']"
   ]
  },
  {
   "cell_type": "code",
   "execution_count": 19,
   "metadata": {},
   "outputs": [],
   "source": [
    "def count_lines(f):\n",
    "    with open(f, 'r') as f:\n",
    "        return len(f.readlines())\n",
    "    \n",
    "def get_num_lines(dataset):\n",
    "    num_lines = {}\n",
    "    for s in sets:\n",
    "        num_lines[s] = count_lines(os.path.join(DATA_PATH, dataset, s+'.txt'))\n",
    "    \n",
    "    return num_lines"
   ]
  },
  {
   "cell_type": "code",
   "execution_count": 20,
   "metadata": {},
   "outputs": [
    {
     "name": "stdout",
     "output_type": "stream",
     "text": [
      "ICEWS14 {'train': 74845, 'valid': 8514, 'test': 7371, 'relation2id': 230, 'entity2id': 7128}\n",
      "ICEWS05-15 {'train': 368868, 'valid': 46302, 'test': 46159, 'relation2id': 251, 'entity2id': 10488}\n",
      "ICEWS18 {'train': 373018, 'valid': 45995, 'test': 49545, 'relation2id': 256, 'entity2id': 23033}\n"
     ]
    }
   ],
   "source": [
    "for i, dataset in enumerate(datasets):\n",
    "    num_lines = get_num_lines(dataset)\n",
    "    print(dataset, num_lines)"
   ]
  },
  {
   "cell_type": "code",
   "execution_count": 21,
   "metadata": {},
   "outputs": [],
   "source": [
    "from icews_utils import ICEWSDataset\n",
    "from collections import defaultdict\n",
    "\n",
    "test = ICEWSDataset(dir_path=DATA_PATH, dataset_name='ICEWS14', filename='test', idx=[0, 7370]).data"
   ]
  },
  {
   "cell_type": "code",
   "execution_count": 22,
   "metadata": {},
   "outputs": [],
   "source": [
    "templates = {\n",
    "    \"Make_statement\": [\n",
    "        \"Will {subject} make a statement about {object} on {date}?\",\n",
    "        \"Is {subject} expected to make a statement about {object} on {date}?\",\n",
    "        \"Do you think {subject} will make a statement about {object} on {date}?\"\n",
    "    ],\n",
    "    \"Make_an_appeal_or_request\": [\n",
    "        \"Will {subject} make an appeal or request to {object} on {date}?\",\n",
    "        \"Is {subject} expected to make an appeal or request to {object} on {date}?\",\n",
    "        \"Do you think {subject} will make an appeal or request to {object} on {date}?\"\n",
    "    ],\n",
    "    \"Consult\": [\n",
    "        \"Will {subject} consult {object} on {date}?\",\n",
    "        \"Is {subject} expected to consult {object} on {date}?\",\n",
    "        \"Do you think {subject} will consult {object} on {date}?\"\n",
    "    ],\n",
    "    \"Arrest,_detain,_or_charge_with_legal_action\": [\n",
    "        \"Will {subject} arrest, detain, or charge {object} with legal action on {date}?\",\n",
    "        \"Is {subject} expected to take any legal action against {object} on {date}?\",\n",
    "        \"Do you think {subject} will arrest, detain, or charge {object} with legal action on {date}?\"\n",
    "    ]\n",
    "}"
   ]
  },
  {
   "cell_type": "code",
   "execution_count": 11,
   "metadata": {},
   "outputs": [
    {
     "name": "stdout",
     "output_type": "stream",
     "text": [
      "['China', 'Iran', 'Citizen_(Nigeria)', 'Citizen_(India)', 'Barack_Obama', 'Japan', 'John_Kerry', 'South_Korea', 'Iraq', 'Government_(Nigeria)']\n"
     ]
    }
   ],
   "source": [
    "entities = []\n",
    "with open('../data/ICEWS14/entity2id.txt', 'r') as f:\n",
    "    for l in f.readlines():\n",
    "        entities.append(l.split()[0])\n",
    "\n",
    "print(entities[:10])"
   ]
  },
  {
   "cell_type": "code",
   "execution_count": 23,
   "metadata": {},
   "outputs": [],
   "source": [
    "import random\n",
    "import json\n",
    "import os\n",
    "\n",
    "qa_pairs = []\n",
    "\n",
    "if os.path.exists('qa_pairs.json'):\n",
    "    qa_pairs = json.load(open('qa_pairs.json', 'r'))\n",
    "else:\n",
    "    for r in test:\n",
    "        if r[3] == '2014-12-31' and r[1] in templates:\n",
    "            rand_idx = random.randint(0, len(templates[r[1]]) - 1)\n",
    "            yes_qa_pair = {\n",
    "                'question': templates[r[1]][rand_idx].format(subject=r[0], object=r[2], date=r[3]),\n",
    "                'answer': 'Yes'\n",
    "            }\n",
    "\n",
    "            rand_entity = random.choice(entities)\n",
    "            while rand_entity == r[2]:\n",
    "                rand_entity = random.choice(entities)\n",
    "            \n",
    "            no_qa_pair = {\n",
    "                'question': templates[r[1]][rand_idx].format(subject=r[0], object=rand_entity, date=r[3]),\n",
    "                'answer': 'No'\n",
    "            }\n",
    "            \n",
    "            qa_pairs.append(yes_qa_pair)\n",
    "            qa_pairs.append(no_qa_pair)\n",
    "\n",
    "    json.dump(qa_pairs, open('qa_pairs1.json', 'w'), indent=4, ensure_ascii=False)\n"
   ]
  },
  {
   "cell_type": "code",
   "execution_count": 7,
   "metadata": {},
   "outputs": [],
   "source": [
    "import jsonlines\n",
    "\n",
    "def get_answers(f):\n",
    "    answers = []\n",
    "    with jsonlines.open(f) as reader:\n",
    "        for obj in reader:\n",
    "            if obj['response'].lower().startswith('yes'):\n",
    "                answers.append('Yes')\n",
    "            elif obj['response'].lower().startswith('no'):\n",
    "                answers.append('No')\n",
    "            else:\n",
    "                print(obj['response'])\n",
    "    return answers"
   ]
  },
  {
   "cell_type": "code",
   "execution_count": 8,
   "metadata": {},
   "outputs": [],
   "source": [
    "def get_accuracy(answers):\n",
    "    accuracy = 0\n",
    "    for i, qa_pair in enumerate(qa_pairs):\n",
    "        if qa_pair['answer'] == answers[i]:\n",
    "            accuracy += 1\n",
    "\n",
    "    return accuracy / len(qa_pairs)"
   ]
  },
  {
   "cell_type": "code",
   "execution_count": 14,
   "metadata": {},
   "outputs": [
    {
     "name": "stdout",
     "output_type": "stream",
     "text": [
      "acc: 0.5416666666666666\n",
      "y/n ratio 0.3584905660377358\n"
     ]
    }
   ],
   "source": [
    "answers = get_answers('test_result/output_2023-04-26-16-28-53.txt')\n",
    "print('acc:', get_accuracy(answers))\n",
    "print('y/n ratio', answers.count('Yes') / answers.count('No'))"
   ]
  },
  {
   "cell_type": "code",
   "execution_count": 15,
   "metadata": {},
   "outputs": [
    {
     "name": "stdout",
     "output_type": "stream",
     "text": [
      "acc: 0.5069444444444444\n",
      "y/n ratio 7.470588235294118\n"
     ]
    }
   ],
   "source": [
    "answers = get_answers('test_result/output_2023-04-26-19-34-28.txt')\n",
    "print('acc:', get_accuracy(answers))\n",
    "print('y/n ratio', answers.count('Yes') / answers.count('No'))"
   ]
  }
 ],
 "metadata": {
  "kernelspec": {
   "display_name": "tkgllm",
   "language": "python",
   "name": "python3"
  },
  "language_info": {
   "codemirror_mode": {
    "name": "ipython",
    "version": 3
   },
   "file_extension": ".py",
   "mimetype": "text/x-python",
   "name": "python",
   "nbconvert_exporter": "python",
   "pygments_lexer": "ipython3",
   "version": "3.10.9"
  },
  "orig_nbformat": 4
 },
 "nbformat": 4,
 "nbformat_minor": 2
}
